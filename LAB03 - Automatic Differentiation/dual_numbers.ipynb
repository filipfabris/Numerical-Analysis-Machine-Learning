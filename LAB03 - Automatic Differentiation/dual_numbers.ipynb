{
  "cells": [
    {
      "cell_type": "markdown",
      "metadata": {
        "id": "gMz-33_m3OVr"
      },
      "source": [
        "# Forward auto-diff through Dual Numbers"
      ]
    },
    {
      "cell_type": "code",
      "execution_count": 1,
      "metadata": {
        "id": "0yxN97Qqaz7O"
      },
      "outputs": [],
      "source": [
        "import numpy as np"
      ]
    },
    {
      "cell_type": "markdown",
      "metadata": {
        "id": "uJ7sptoJ3WoN"
      },
      "source": [
        "Let us define a class `DualNumber` that represents a dual number\n",
        "\n",
        "$$\n",
        "a + b \\epsilon \n",
        "$$\n",
        "\n",
        "where $a$ is the \"real\" part and $b$ is the \"dual\" part."
      ]
    },
    {
      "cell_type": "code",
      "execution_count": 2,
      "metadata": {
        "id": "dzKOGcA9obqm"
      },
      "outputs": [],
      "source": [
        "class DualNumber:\n",
        "  def __init__(self, real, dual):\n",
        "    # dual number: 'real' + 'dual' * eps\n",
        "    self.real = real\n",
        "    self.dual = dual\n",
        "\n",
        "  def __repr__(self):\n",
        "    return repr(self.real) + ' + ' + repr(self.dual) + ' epsilon'"
      ]
    },
    {
      "cell_type": "markdown",
      "metadata": {
        "id": "KwUm1iNAohoq"
      },
      "source": [
        "Define the dual numbers\n",
        "\n",
        "$$\n",
        "\\begin{split}\n",
        "x &= 1 + 2 \\epsilon \\\\\n",
        "y &= 1.5 + 3.1 \\epsilon \\\\\n",
        "\\end{split}\n",
        "$$"
      ]
    },
    {
      "cell_type": "code",
      "execution_count": 30,
      "metadata": {
        "colab": {
          "base_uri": "https://localhost:8080/",
          "height": 235
        },
        "id": "VDr99gWj0Gqf",
        "outputId": "ab5712ac-ae72-400f-9e35-eb738b8ceeda"
      },
      "outputs": [
        {
          "name": "stdout",
          "output_type": "stream",
          "text": [
            "1 + 2 epsilon\n",
            "1.5 + 3.1 epsilon\n"
          ]
        }
      ],
      "source": [
        "x = DualNumber(1, 2)\n",
        "y = DualNumber(1.5, 3.1)\n",
        "print(x)\n",
        "print(y)\n",
        "# x + y TypeError: unsupported operand type(s) for +: 'DualNumber' and 'DualNumber'"
      ]
    },
    {
      "cell_type": "markdown",
      "metadata": {
        "id": "DAH2eIaHod_y"
      },
      "source": [
        "Implement the operator sum `__add__` for this class."
      ]
    },
    {
      "cell_type": "code",
      "execution_count": 4,
      "metadata": {
        "id": "JbgwZc9UzG7U"
      },
      "outputs": [],
      "source": [
        "class DualNumber:\n",
        "  def __init__(self, real, dual):\n",
        "    # dual number: 'real' + 'dual' * eps\n",
        "    self.real = real\n",
        "    self.dual = dual\n",
        "\n",
        "  def __repr__(self):\n",
        "    return repr(self.real) + ' + ' + repr(self.dual) + ' epsilon'\n",
        "\n",
        "  def __add__(self, other):\n",
        "    # implement the operation \"self + other\"\n",
        "    return DualNumber(self.real + other.real, self.dual + other.dual)"
      ]
    },
    {
      "cell_type": "markdown",
      "metadata": {
        "id": "LgV_q13m3iD6"
      },
      "source": [
        "Define the dual numbers\n",
        "\n",
        "$$\n",
        "\\begin{split}\n",
        "x &= 1 + 2 \\epsilon \\\\\n",
        "y &= 1.5 + 3.1 \\epsilon \\\\\n",
        "\\end{split}\n",
        "$$\n",
        "\n",
        "Then, compute $z = x + y$ and display the result."
      ]
    },
    {
      "cell_type": "code",
      "execution_count": 5,
      "metadata": {
        "colab": {
          "base_uri": "https://localhost:8080/"
        },
        "id": "MEJXusCr1827",
        "outputId": "5f89d3e6-b9d3-4bf2-8e0e-218e97ece7c5"
      },
      "outputs": [
        {
          "name": "stdout",
          "output_type": "stream",
          "text": [
            "2.5 + 5.1 epsilon\n"
          ]
        }
      ],
      "source": [
        "x = DualNumber(1, 2)\n",
        "y = DualNumber(1.5, 3.1)\n",
        "z = x + y\n",
        "print(z)"
      ]
    },
    {
      "cell_type": "markdown",
      "metadata": {
        "id": "krnyTgBg4If-"
      },
      "source": [
        "Define now the dual number\n",
        "\n",
        "$$\n",
        "\\begin{split}\n",
        "x &= 1 + 2 \\epsilon \\\\\n",
        "\\end{split}\n",
        "$$\n",
        "\n",
        "and try to compute $w = x + 1$. What is going on?"
      ]
    },
    {
      "cell_type": "code",
      "execution_count": 29,
      "metadata": {
        "colab": {
          "base_uri": "https://localhost:8080/",
          "height": 270
        },
        "id": "TH8ckaQI2Hk2",
        "outputId": "8369c02b-4b06-4802-f962-934a19065b7c"
      },
      "outputs": [],
      "source": [
        "x = DualNumber(1, 2)\n",
        "# w = x + 1"
      ]
    },
    {
      "cell_type": "markdown",
      "metadata": {
        "id": "FvUatRPG4WAY"
      },
      "source": [
        "Try now to compute $w = 1 + x$ (in this specific order). What is going on this time?"
      ]
    },
    {
      "cell_type": "code",
      "execution_count": 31,
      "metadata": {
        "colab": {
          "base_uri": "https://localhost:8080/",
          "height": 166
        },
        "id": "5myDm7x42kNp",
        "outputId": "1caba148-cee3-4757-df4b-26a7e7df7f89"
      },
      "outputs": [],
      "source": [
        "# w = 1 + x \n",
        "#TypeError: unsupported operand type(s) for +: 'int' and 'DualNumber'"
      ]
    },
    {
      "cell_type": "markdown",
      "metadata": {
        "id": "baVLjN8Y4dIA"
      },
      "source": [
        "To overcome the above inconvenient, introduce a check (inside the definition of `__add__`) on the type of `other`. Moroever, define the operator `__radd__`, besides `__add__`."
      ]
    },
    {
      "cell_type": "code",
      "execution_count": 39,
      "metadata": {
        "id": "k1XrCZgx0B09"
      },
      "outputs": [],
      "source": [
        "class DualNumber:\n",
        "  def __init__(self, real, dual):\n",
        "    # dual number: 'real' + 'dual' * eps\n",
        "    self.real = real\n",
        "    self.dual = dual\n",
        "\n",
        "  def __repr__(self):\n",
        "    return repr(self.real) + ' + ' + repr(self.dual) + ' epsilon'\n",
        "\n",
        "  def __add__(self, other):\n",
        "    # implement the operation \"self + other\"\n",
        "    if isinstance(other, DualNumber):\n",
        "      return DualNumber(self.real + other.real, self.dual + other.dual)\n",
        "    else:\n",
        "      return DualNumber(self.real + other, self.dual)\n",
        "\n",
        "  def __radd__(self, other):\n",
        "    # implement the operation \"other + self\"\n",
        "    return self.__add__(other)"
      ]
    },
    {
      "cell_type": "markdown",
      "metadata": {
        "id": "cpeVP2-p4u5f"
      },
      "source": [
        "Try again to compute $w = x + 1$"
      ]
    },
    {
      "cell_type": "code",
      "execution_count": 40,
      "metadata": {
        "colab": {
          "base_uri": "https://localhost:8080/"
        },
        "id": "VWhTC7ox4N7m",
        "outputId": "40a069d1-a262-45f7-c3b8-b6bddbdbc0ac"
      },
      "outputs": [
        {
          "name": "stdout",
          "output_type": "stream",
          "text": [
            "2 + 2 epsilon\n"
          ]
        }
      ],
      "source": [
        "x = DualNumber(1, 2)\n",
        "w = x + 1\n",
        "print(w)"
      ]
    },
    {
      "cell_type": "markdown",
      "metadata": {
        "id": "3o7AUeYt4yXN"
      },
      "source": [
        "Try again to compute $w = 1 + x$"
      ]
    },
    {
      "cell_type": "code",
      "execution_count": 41,
      "metadata": {
        "colab": {
          "base_uri": "https://localhost:8080/"
        },
        "id": "v5eNLCOp4VPj",
        "outputId": "31fcbc77-9e49-4c21-d611-8662ddc26453"
      },
      "outputs": [
        {
          "name": "stdout",
          "output_type": "stream",
          "text": [
            "2 + 2 epsilon\n"
          ]
        }
      ],
      "source": [
        "w = 1 + x\n",
        "print(w)"
      ]
    },
    {
      "cell_type": "markdown",
      "metadata": {
        "id": "2gHd4VjU40O-"
      },
      "source": [
        "Now that we have learnt how to treat the operator \"+\", let us define the full class `DualNumber`, implementing also the operators \"-\", \"*\", \"/\", \"**\"."
      ]
    },
    {
      "cell_type": "code",
      "execution_count": 11,
      "metadata": {
        "id": "Os4HeXLoassa"
      },
      "outputs": [],
      "source": [
        "class DualNumber:\n",
        "  def __init__(self, real, dual):\n",
        "    # dual number: 'real' + 'dual' * eps\n",
        "    self.real = real\n",
        "    self.dual = dual\n",
        "\n",
        "  def __add__(self, other):\n",
        "    # implement the operation \"self + other\"\n",
        "    if isinstance(other, DualNumber):\n",
        "      return DualNumber(self.real + other.real,\n",
        "                        self.dual + other.dual)\n",
        "    else:\n",
        "      return DualNumber(self.real + other, self.dual)\n",
        "  \n",
        "  def __radd__(self, other):\n",
        "    # implement the operation \"other + self\"\n",
        "    return self.__add__(other)\n",
        "\n",
        "  def __sub__(self, other):\n",
        "    # implement the operation \"self - other\"\n",
        "    if isinstance(other, DualNumber):\n",
        "      return DualNumber(self.real - other.real,\n",
        "                        self.dual - other.dual)\n",
        "    else:\n",
        "      return DualNumber(self.real - other, self.dual)\n",
        "\n",
        "  def __rsub__(self, other):\n",
        "    # implement the operation \"other - self\"\n",
        "    return DualNumber(other, 0.0) - self\n",
        "\n",
        "  def __mul__(self, other):\n",
        "    # implement the operation \"self * other\"\n",
        "    if isinstance(other, DualNumber):\n",
        "      return DualNumber(self.real * other.real,\n",
        "                        self.real * other.dual + self.dual * other.real)\n",
        "    else:\n",
        "      return DualNumber(self.real * other, self.dual * other)\n",
        "\n",
        "  def __rmul__(self, other):\n",
        "    # implement the operation \"other * self\"\n",
        "    return self.__mul__(other)\n",
        "\n",
        "  def __truediv__(self, other):\n",
        "    # implement the operation \"self / other\"\n",
        "    if isinstance(other, DualNumber):\n",
        "      return DualNumber(self.real/other.real, (self.dual*other.real - self.real*other.dual)/(other.real**2))\n",
        "    else:\n",
        "      return (1/other) * self\n",
        "\n",
        "  def __rtruediv__(self, other):\n",
        "    # implement the operation \"other / self\"\n",
        "    return DualNumber(other, 0.0).__truediv__(self)\n",
        "\n",
        "  def __pow__(self, other):\n",
        "    # implement the operation \"self ** other\"\n",
        "    return DualNumber(self.real**other,\n",
        "                      self.dual * other * self.real**(other - 1))\n",
        "\n",
        "  def __repr__(self):\n",
        "    return repr(self.real) + ' + ' + repr(self.dual) + ' epsilon'\n"
      ]
    },
    {
      "cell_type": "markdown",
      "metadata": {
        "id": "gywkm3dK5OVe"
      },
      "source": [
        "Define the dual numbers\n",
        "\n",
        "$$\n",
        "\\begin{split}\n",
        "x &= 1 + 2 \\epsilon \\\\\n",
        "y &= 1.5 + 3.1 \\epsilon \\\\\n",
        "\\end{split}\n",
        "$$\n",
        "\n",
        "Then, compute the result of the following operations:\n",
        "- $x + y$\n",
        "- $x - y$\n",
        "- $x y$\n",
        "- $x / y$\n",
        "- $x + 1$\n",
        "- $2 x$\n",
        "- $x ^ 3$"
      ]
    },
    {
      "cell_type": "code",
      "execution_count": 12,
      "metadata": {
        "colab": {
          "base_uri": "https://localhost:8080/"
        },
        "id": "PjCtHoCV7-uh",
        "outputId": "4c4702d6-570d-4e6e-e17d-56c0749d9002"
      },
      "outputs": [
        {
          "name": "stdout",
          "output_type": "stream",
          "text": [
            "x     = 1.0 + 2.0 epsilon\n",
            "y     = 1.5 + 3.1 epsilon\n",
            "x + y = 2.5 + 5.1 epsilon\n",
            "x - y = -0.5 + -1.1 epsilon\n",
            "x * y = 1.5 + 6.1 epsilon\n",
            "x / y = 0.6666666666666666 + -0.04444444444444448 epsilon\n",
            "x + 1 = 2.0 + 2.0 epsilon\n",
            "2 * x = 2.0 + 4.0 epsilon\n",
            "x ^ 3 = 1.0 + 6.0 epsilon\n"
          ]
        }
      ],
      "source": [
        "x = DualNumber(1.0, 2.0)\n",
        "y = DualNumber(1.5, 3.1)\n",
        "z = x + y\n",
        "print(\"x     = %s\" % x)\n",
        "print(\"y     = %s\" % y)\n",
        "print(\"x + y = %s\" % (x + y))\n",
        "print(\"x - y = %s\" % (x - y))\n",
        "print(\"x * y = %s\" % (x * y))\n",
        "print(\"x / y = %s\" % (x / y))\n",
        "print(\"x + 1 = %s\" % (x + 1))\n",
        "print(\"2 * x = %s\" % (2 * x))\n",
        "print(\"x ^ 3 = %s\" % (x ** 3))"
      ]
    },
    {
      "cell_type": "markdown",
      "metadata": {
        "id": "qI1dQB-A5bpr"
      },
      "source": [
        "Define now the functions `my_sin`, `my_cos` and `my_exp`, implementing the operations sinus, cosinus and exponential, respectively."
      ]
    },
    {
      "cell_type": "code",
      "execution_count": 13,
      "metadata": {
        "id": "ZaUQHJjem390"
      },
      "outputs": [],
      "source": [
        "import numpy as np\n",
        "def my_sin(x):\n",
        "  if isinstance(x, DualNumber):\n",
        "    return DualNumber(np.sin(x.real), np.cos(x.real) * x.dual)\n",
        "  else:\n",
        "    return np.sin(x)\n",
        "\n",
        "def my_cos(x):\n",
        "  if isinstance(x, DualNumber):\n",
        "    return DualNumber(np.cos(x.real), -np.sin(x.real) * x.dual)\n",
        "  else:\n",
        "    return np.cos(x)\n",
        "\n",
        "def my_exp(x):\n",
        "  if isinstance(x, DualNumber):\n",
        "    return DualNumber(np.exp(x.real), np.exp(x.real) * x.dual)\n",
        "  else:\n",
        "    return np.exp(x)"
      ]
    },
    {
      "cell_type": "markdown",
      "metadata": {
        "id": "TStUre5B5vE6"
      },
      "source": [
        "Define the dual number\n",
        "\n",
        "$$\n",
        "\\begin{split}\n",
        "x &= 1 + 2.3 \\epsilon \\\\\n",
        "\\end{split}\n",
        "$$\n",
        "\n",
        "Then, compute the result of the following operations:\n",
        "- $\\sin(x)$\n",
        "- $\\exp(x)$"
      ]
    },
    {
      "cell_type": "code",
      "execution_count": 14,
      "metadata": {
        "colab": {
          "base_uri": "https://localhost:8080/"
        },
        "id": "iELMcPd0_4W0",
        "outputId": "9a70b1e7-5067-4651-84e0-b639162d59b7"
      },
      "outputs": [
        {
          "name": "stdout",
          "output_type": "stream",
          "text": [
            "0.8414709848078965 + 1.2426953034967214 epsilon\n",
            "2.718281828459045 + 6.252048205455803 epsilon\n"
          ]
        }
      ],
      "source": [
        "x = DualNumber(1, 2.3)\n",
        "print(my_sin(x))\n",
        "print(my_exp(x))"
      ]
    },
    {
      "cell_type": "markdown",
      "metadata": {
        "id": "j2YgP93T5zIp"
      },
      "source": [
        "Define now a function `auto_diff` that, given a function $f \\colon \\mathbb{R} \\to \\mathbb{R}$ and a real number $x$, returns $f'(x)$, exploiting the class `DualNumber`. The function must have the following signature:\n",
        "```python\n",
        "def auto_diff(f, x):\n",
        "  ...\n",
        "```\n"
      ]
    },
    {
      "cell_type": "code",
      "execution_count": 15,
      "metadata": {
        "id": "WIjh4zdZAOmZ"
      },
      "outputs": [],
      "source": [
        "def auto_diff(f,x):\n",
        "  return f(DualNumber(x, 1.0)).dual  "
      ]
    },
    {
      "cell_type": "markdown",
      "metadata": {
        "id": "hHvUj1_C8gyT"
      },
      "source": [
        "Consider the function \n",
        "\n",
        "$$\n",
        "f(x) = x \\sin(x^2)\n",
        "$$\n",
        "\n",
        "and use the function implemented above to compute $f'(x_0)$ for $x_0 = 0.13$. Compare the result with the analytical solution and compute the relative error.\n",
        "\n"
      ]
    },
    {
      "cell_type": "code",
      "execution_count": 21,
      "metadata": {
        "colab": {
          "base_uri": "https://localhost:8080/"
        },
        "id": "yq0GEyzWJHj-",
        "outputId": "02b6e8c8-b5cc-4d84-86d8-d566f3675c9f"
      },
      "outputs": [
        {
          "name": "stdout",
          "output_type": "stream",
          "text": [
            "f'(x0) (AD): 0.050694\n",
            "f'(x0) (ex): 0.050694\n",
            "err (AD): 1.368770e-16\n"
          ]
        }
      ],
      "source": [
        "func = lambda x : x*my_sin(x**2)\n",
        "x0 = 0.13\n",
        "df_AD = auto_diff(func, x0)\n",
        "print('f\\'(x0) (AD): %f' % df_AD)\n",
        "\n",
        "dfunc = lambda x : np.sin(x**2)+2 * x**2 * np.cos(x**2)\n",
        "df_ex = dfunc(x0)\n",
        "print('f\\'(x0) (ex): %f' % df_ex)\n",
        "print('err (AD): %e' % (abs(df_AD - df_ex)/abs(df_ex)))"
      ]
    },
    {
      "cell_type": "markdown",
      "metadata": {
        "id": "cMUEXu4d-aae"
      },
      "source": [
        "Repeat the previous point, this time by computing the numerical derivative (i.e. through finite differences)."
      ]
    },
    {
      "cell_type": "code",
      "execution_count": 22,
      "metadata": {
        "colab": {
          "base_uri": "https://localhost:8080/"
        },
        "id": "S-V_TQBR9NNw",
        "outputId": "8f76eb79-2170-4234-9f99-5bcf4b48aae1"
      },
      "outputs": [
        {
          "name": "stdout",
          "output_type": "stream",
          "text": [
            "f'(x0) (FD): 0.050694\n",
            "err (FD): 2.195234e-11\n"
          ]
        },
        {
          "name": "stderr",
          "output_type": "stream",
          "text": [
            "C:\\Users\\filip\\AppData\\Local\\Temp\\ipykernel_19236\\272139436.py:2: DeprecationWarning: scipy.misc.derivative is deprecated in SciPy v1.10.0; and will be completely removed in SciPy v1.12.0. You may consider using findiff: https://github.com/maroba/findiff or numdifftools: https://github.com/pbrod/numdifftools\n",
            "  df_FD = scipy.misc.derivative(func, x0, dx=1e-6)\n"
          ]
        }
      ],
      "source": [
        "import scipy.misc\n",
        "df_FD = scipy.misc.derivative(func, x0, dx=1e-6)\n",
        "print('f\\'(x0) (FD): %f' % df_FD)\n",
        "print('err (FD): %e' % (abs(df_FD - df_ex)/abs(df_ex)))"
      ]
    },
    {
      "cell_type": "markdown",
      "metadata": {
        "id": "Is_OfXGT-v6W"
      },
      "source": [
        "Repeat the previous point, this time by computing the symbolic derivative (module `sympy` = **sym**bolic **py**thon)"
      ]
    },
    {
      "cell_type": "code",
      "execution_count": 42,
      "metadata": {
        "colab": {
          "base_uri": "https://localhost:8080/"
        },
        "id": "eeqC5uGI9hg2",
        "outputId": "94ab7b67-bd1a-406c-b22e-67e959d156c2"
      },
      "outputs": [
        {
          "name": "stdout",
          "output_type": "stream",
          "text": [
            "2*x**2*cos(x**2) + sin(x**2)\n",
            "f'(x0) (sy): 0.050694\n",
            "err (sy): 1.000000e+00\n"
          ]
        }
      ],
      "source": [
        "import sympy\n",
        "x = sympy.symbols('x')\n",
        "func_sym = x*sympy.sin(x**2)\n",
        "x0 = 0.13\n",
        "\n",
        "dfunc_sym = sympy.diff(func_sym, x)\n",
        "print(dfunc_sym)\n",
        "df_sy = dfunc_sym.subs(x, x0)\n",
        "\n",
        "print('f\\'(x0) (sy): %f' % df_sy)\n",
        "print('err (sy): %e' % (abs(df_sy - df_ex)/abs(df_ex)))"
      ]
    },
    {
      "cell_type": "markdown",
      "metadata": {
        "id": "MCxUDCRY-9aM"
      },
      "source": [
        "Evaluate and compare the execution time of the different approaches.\n",
        "To compute the execution time of a line of code, prepend IPython [magic command](https://ipython.readthedocs.io/en/stable/interactive/magics.html) `%timeit` to the line.\n",
        "\n",
        "Example:\n",
        "```python\n",
        "%timeit np.random.rand(1000)\n",
        "```"
      ]
    },
    {
      "cell_type": "code",
      "execution_count": 24,
      "metadata": {
        "colab": {
          "base_uri": "https://localhost:8080/"
        },
        "id": "PL7HaMXGECLR",
        "outputId": "61951328-c634-4cb3-8b92-f9d3dd0fb26a"
      },
      "outputs": [
        {
          "name": "stdout",
          "output_type": "stream",
          "text": [
            "75.2 µs ± 1.76 µs per loop (mean ± std. dev. of 7 runs, 10,000 loops each)\n"
          ]
        }
      ],
      "source": [
        "%timeit sympy.diff(func_sym, x).subs(x, x0)"
      ]
    },
    {
      "cell_type": "code",
      "execution_count": 25,
      "metadata": {
        "colab": {
          "base_uri": "https://localhost:8080/"
        },
        "id": "ygapJ99hEbZy",
        "outputId": "3d176760-d4cd-4e25-a368-ed520f729a4b"
      },
      "outputs": [
        {
          "name": "stderr",
          "output_type": "stream",
          "text": [
            "<magic-timeit>:1: DeprecationWarning: scipy.misc.derivative is deprecated in SciPy v1.10.0; and will be completely removed in SciPy v1.12.0. You may consider using findiff: https://github.com/maroba/findiff or numdifftools: https://github.com/pbrod/numdifftools\n"
          ]
        },
        {
          "name": "stdout",
          "output_type": "stream",
          "text": [
            "10.7 µs ± 627 ns per loop (mean ± std. dev. of 7 runs, 100,000 loops each)\n"
          ]
        }
      ],
      "source": [
        "%timeit scipy.misc.derivative(func, x0, dx=1e-6)"
      ]
    },
    {
      "cell_type": "code",
      "execution_count": 26,
      "metadata": {
        "colab": {
          "base_uri": "https://localhost:8080/"
        },
        "id": "x6kt-v2BElyj",
        "outputId": "d2d0b1f9-b183-4937-9f67-4329fc174def"
      },
      "outputs": [
        {
          "name": "stdout",
          "output_type": "stream",
          "text": [
            "2.82 µs ± 66 ns per loop (mean ± std. dev. of 7 runs, 100,000 loops each)\n"
          ]
        }
      ],
      "source": [
        "%timeit auto_diff(func, x0)"
      ]
    },
    {
      "cell_type": "code",
      "execution_count": 27,
      "metadata": {
        "colab": {
          "base_uri": "https://localhost:8080/"
        },
        "id": "7yK3MqYmEvA-",
        "outputId": "2ceda5b2-25a6-4ba2-ec5d-39ec95e01b19"
      },
      "outputs": [
        {
          "name": "stdout",
          "output_type": "stream",
          "text": [
            "1.39 µs ± 106 ns per loop (mean ± std. dev. of 7 runs, 1,000,000 loops each)\n"
          ]
        }
      ],
      "source": [
        "%timeit dfunc(x0)"
      ]
    },
    {
      "cell_type": "markdown",
      "metadata": {
        "id": "AAi_aPmvFqIZ"
      },
      "source": [
        "Consider now the function \n",
        "$$\n",
        "f(x) = \\frac{1}{x^5}\n",
        "$$\n",
        "compute the derivative in the point $x_0 = 10^{-2}$ with AD and FD and compare the results with the exact solution."
      ]
    },
    {
      "cell_type": "code",
      "execution_count": 28,
      "metadata": {
        "colab": {
          "base_uri": "https://localhost:8080/"
        },
        "id": "cHmTGA5RAwmM",
        "outputId": "6f69424f-8b2f-49f4-f8a8-89ac87339db4"
      },
      "outputs": [
        {
          "name": "stdout",
          "output_type": "stream",
          "text": [
            "f'(x0) (ex): -4999999999999.999023\n",
            "f'(x0) (FD): -5000000349996.567383\n",
            "f'(x0) (AD): -4999999999999.998047\n"
          ]
        },
        {
          "name": "stderr",
          "output_type": "stream",
          "text": [
            "C:\\Users\\filip\\AppData\\Local\\Temp\\ipykernel_19236\\680715438.py:6: DeprecationWarning: scipy.misc.derivative is deprecated in SciPy v1.10.0; and will be completely removed in SciPy v1.12.0. You may consider using findiff: https://github.com/maroba/findiff or numdifftools: https://github.com/pbrod/numdifftools\n",
            "  df_FD = scipy.misc.derivative(func, x0, dx=1e-6)\n"
          ]
        }
      ],
      "source": [
        "func = lambda x : 1 / x**5\n",
        "dfunc = lambda x : -5 / x**6\n",
        "x0 = 0.01\n",
        "\n",
        "df_ex = dfunc(x0)\n",
        "df_FD = scipy.misc.derivative(func, x0, dx=1e-6)\n",
        "df_AD = auto_diff(func, x0)\n",
        "print('f\\'(x0) (ex): %f' % df_ex)\n",
        "print('f\\'(x0) (FD): %f' % df_FD)\n",
        "print('f\\'(x0) (AD): %f' % df_AD)"
      ]
    }
  ],
  "metadata": {
    "colab": {
      "collapsed_sections": [],
      "provenance": []
    },
    "kernelspec": {
      "display_name": "Python 3",
      "name": "python3"
    },
    "language_info": {
      "codemirror_mode": {
        "name": "ipython",
        "version": 3
      },
      "file_extension": ".py",
      "mimetype": "text/x-python",
      "name": "python",
      "nbconvert_exporter": "python",
      "pygments_lexer": "ipython3",
      "version": "3.10.13"
    }
  },
  "nbformat": 4,
  "nbformat_minor": 0
}
