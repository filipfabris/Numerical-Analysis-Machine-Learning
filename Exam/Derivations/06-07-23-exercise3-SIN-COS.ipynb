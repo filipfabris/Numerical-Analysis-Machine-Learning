{
 "cells": [
  {
   "cell_type": "markdown",
   "metadata": {},
   "source": [
    "# Exercise 3"
   ]
  },
  {
   "cell_type": "code",
   "execution_count": 2,
   "metadata": {},
   "outputs": [],
   "source": [
    "import numpy as np\n",
    "import matplotlib.pyplot as plt\n",
    "import jax"
   ]
  },
  {
   "cell_type": "code",
   "execution_count": 3,
   "metadata": {},
   "outputs": [],
   "source": [
    "x = 1"
   ]
  },
  {
   "cell_type": "code",
   "execution_count": 8,
   "metadata": {},
   "outputs": [
    {
     "data": {
      "text/plain": [
       "(Array(0.2584443, dtype=float32, weak_type=True),\n",
       " Array(0.19674855, dtype=float32, weak_type=True))"
      ]
     },
     "execution_count": 8,
     "metadata": {},
     "output_type": "execute_result"
    }
   ],
   "source": [
    "# build a network with 1 input neural, 5 hidden layers with 2 neurons each, and 1 output neuron\n",
    "# the top neuron of each hidden layers applies sin(x + y) to the output of the previous layer\n",
    "# the bottom neuron of each hidden layers applies cos(x + y) to the output of the previous layer\n",
    "\n",
    "def sin_cos(x, y):\n",
    "    return jnp.sin(x + y), jnp.cos(x + y)\n",
    "\n",
    "def neural_network(x):\n",
    "    x, y = sin_cos(x, 1)\n",
    "    x, y = sin_cos(x, y)\n",
    "    x, y = sin_cos(x, y)\n",
    "    x, y = sin_cos(x, y)\n",
    "    x, y = sin_cos(x, y)\n",
    "    return x * y\n",
    "\n",
    "# compute the gradient of the neural network function\n",
    "grad_neural_network = jax.grad(neural_network)\n",
    "\n",
    "neural_network(1.0), grad_neural_network(1.0)"
   ]
  },
  {
   "cell_type": "code",
   "execution_count": 9,
   "metadata": {},
   "outputs": [
    {
     "data": {
      "text/plain": [
       "Array(0.3200912, dtype=float32, weak_type=True)"
      ]
     },
     "execution_count": 9,
     "metadata": {},
     "output_type": "execute_result"
    }
   ],
   "source": [
    "x = 1.0\n",
    "l1 = sin_cos(x, 0.0)\n",
    "l2 = sin_cos(*l1)\n",
    "l3 = sin_cos(*l2)\n",
    "l4 = sin_cos(*l3)\n",
    "l5 = sin_cos(*l4)\n",
    "l6 = l5[0] * l5[1]\n",
    "l6"
   ]
  },
  {
   "cell_type": "code",
   "execution_count": 10,
   "metadata": {},
   "outputs": [
    {
     "name": "stdout",
     "output_type": "stream",
     "text": [
      "x: 1\n",
      "u1: 0.8414709848078965, v1: 0.5403023058681398\n",
      "u2: 0.9821882747658729, v2: 0.1878994223313054\n",
      "u3: 0.9207848093656193, v3: 0.3900709356534015\n",
      "u4: 0.9664052516984224, v4: 0.257023130262062\n",
      "u5: 0.9402719838996335, v5: 0.34042414176060914\n"
     ]
    },
    {
     "data": {
      "text/plain": [
       "0.32009128314057805"
      ]
     },
     "execution_count": 10,
     "metadata": {},
     "output_type": "execute_result"
    }
   ],
   "source": [
    "# Since we are in a new execution environment, let's re-import NumPy and define the forward propagation function again\n",
    "import numpy as np\n",
    "\n",
    "res = {}\n",
    "def forward_propagation(x):\n",
    "    print(f'x: {x}')\n",
    "    res['x'] = x\n",
    "    # Initialize the outputs of the first hidden layer\n",
    "    u = np.sin(x)\n",
    "    v = np.cos(x)\n",
    "    res['u1'] = u\n",
    "    res['v1'] = v\n",
    "    print(f'u1: {u}, v1: {v}')\n",
    "    # Iterate over the next 4 hidden layers\n",
    "    for k in range(4):  # 4 additional layers to make 5 hidden layers in total\n",
    "        u, v = np.sin(u + v), np.cos(u + v)\n",
    "        print(f'u{k+2}: {u}, v{k+2}: {v}')\n",
    "        res[f'u{k+2}'] = u\n",
    "        res[f'v{k+2}'] = v\n",
    "\n",
    "    # The output neuron computes the product of the last two neurons' outputs\n",
    "    output = u * v\n",
    "    res['output'] = output\n",
    "    return output\n",
    "\n",
    "# Compute the output of the network for x=1\n",
    "network_output = forward_propagation(1)\n",
    "network_output\n"
   ]
  },
  {
   "cell_type": "code",
   "execution_count": 117,
   "metadata": {},
   "outputs": [],
   "source": [
    "du1 = res['v1']\n",
    "dv1 = -res['u1']\n",
    "du2 = (du1 + dv1) * res['v2']\n",
    "dv2 = (du1 + dv1) * -res['u2']\n",
    "du3 = (du2 + dv2) * res['v3']\n",
    "dv3 = (du2 + dv2) * -res['u3']\n",
    "du4 = (du3 + dv3) * res['v4']\n",
    "dv4 = (du3 + dv3) * -res['u4']\n",
    "du5 = (du4 + dv4) * res['v5']\n",
    "dv5 = (du4 + dv4) * -res['u5']\n",
    "\n",
    "dy = du5 * res['v5'] + dv5 * res['u5']"
   ]
  },
  {
   "cell_type": "code",
   "execution_count": 119,
   "metadata": {},
   "outputs": [
    {
     "name": "stdout",
     "output_type": "stream",
     "text": [
      "0.5403023058681398\n",
      " -0.8414709848078965\n",
      " -0.056589420797062674\n",
      " 0.29580434518135673\n",
      " 0.09331078937683927\n",
      " -0.22026546854660325\n",
      " -0.03263028904162854\n",
      " 0.12268966867734823\n",
      " 0.030658387019982757\n",
      " -0.0846803115588484\n",
      " -0.06918566945763523\n"
     ]
    }
   ],
   "source": [
    "print(f'{du1}\\n {dv1}\\n {du2}\\n {dv2}\\n {du3}\\n {dv3}\\n {du4}\\n {dv4}\\n {du5}\\n {dv5}\\n {dy}')"
   ]
  },
  {
   "cell_type": "markdown",
   "metadata": {},
   "source": [
    "Solved in \"paper\" as well, analytically\n",
    "\n",
    "[First image](./ex3-1.png)\n",
    "\n",
    "[Second image](./ex3-2.png)"
   ]
  },
  {
   "cell_type": "markdown",
   "metadata": {},
   "source": []
  }
 ],
 "metadata": {
  "kernelspec": {
   "display_name": "Python 3",
   "language": "python",
   "name": "python3"
  },
  "language_info": {
   "codemirror_mode": {
    "name": "ipython",
    "version": 3
   },
   "file_extension": ".py",
   "mimetype": "text/x-python",
   "name": "python",
   "nbconvert_exporter": "python",
   "pygments_lexer": "ipython3",
   "version": "3.10.13"
  }
 },
 "nbformat": 4,
 "nbformat_minor": 2
}
