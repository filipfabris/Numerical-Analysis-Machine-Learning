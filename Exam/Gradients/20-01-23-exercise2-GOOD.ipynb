{
 "cells": [
  {
   "cell_type": "code",
   "execution_count": 2,
   "metadata": {},
   "outputs": [
    {
     "name": "stdout",
     "output_type": "stream",
     "text": [
      "(10000, 46)\n",
      "(10000,)\n"
     ]
    }
   ],
   "source": [
    "import numpy as np\n",
    "import matplotlib.pyplot as plt\n",
    "\n",
    "X = np.genfromtxt(\"X.dat\")  # Features\n",
    "y = np.genfromtxt(\"y.dat\")  # Labels (+1, -1)\n",
    "\n",
    "print(X.shape)\n",
    "print(y.shape)\n",
    "\n",
    "n_samples, n_features = X.shape"
   ]
  },
  {
   "attachments": {},
   "cell_type": "markdown",
   "metadata": {},
   "source": [
    "Classify the data by solving the minimization problem:\n",
    "$$\\min_w{J(w)} = \\frac{1}{N}\\sum_i{J_i(w)}$$\n",
    "where\n",
    "$$J_i(w) = L(w^Tx_i, y_i)$$\n",
    "with\n",
    "$$L(s,y) = log(1+e^{-sy})$$"
   ]
  },
  {
   "attachments": {},
   "cell_type": "markdown",
   "metadata": {},
   "source": [
    "- 1: Implement the SGD algorithm with batch size of 1 and constant learning rate equal to 0.5. Perform 5000 iterations and initialize the weight vector to zero."
   ]
  },
  {
   "cell_type": "code",
   "execution_count": 99,
   "metadata": {},
   "outputs": [
    {
     "name": "stdout",
     "output_type": "stream",
     "text": [
      "2.9876916\n"
     ]
    }
   ],
   "source": [
    "import jax\n",
    "import jax.numpy as jnp\n",
    "\n",
    "np.random.seed(0)\n",
    "\n",
    "loss = lambda w, x, y: jnp.mean(jnp.log(1 + jnp.exp(-jnp.dot(w, x.T) * y)))\n",
    "\n",
    "loss_jit = jax.jit(loss)\n",
    "grad_jit = jax.jit(jax.grad(loss, argnums=0))\n",
    "\n",
    "w = jnp.zeros([X.shape[1]])  # Initialize w to zero vector\n",
    "learning_rate = 0.5\n",
    "epochs = 100\n",
    "batch_size = 1\n",
    "\n",
    "loss_history = list()\n",
    "\n",
    "for epoch in range(epochs):\n",
    "    idx = np.random.choice(n_samples, batch_size)  # Randomly select a sample\n",
    "    g = grad_jit(w, X[idx], y[idx])\n",
    "    w -= learning_rate * g\n",
    "    loss_history.append(loss_jit(w, X, y))\n",
    "\n",
    "print(loss_jit(w, X, y))"
   ]
  },
  {
   "cell_type": "code",
   "execution_count": 100,
   "metadata": {},
   "outputs": [
    {
     "name": "stdout",
     "output_type": "stream",
     "text": [
      "5.5964646\n"
     ]
    }
   ],
   "source": [
    "import jax\n",
    "import jax.numpy as jnp\n",
    "\n",
    "np.random.seed(0)\n",
    "\n",
    "loss = lambda w, x, y: jnp.mean(jnp.log(1 + jnp.exp(-jnp.dot(w, x) * y[0])))\n",
    "\n",
    "loss_jit = jax.jit(loss)\n",
    "grad_jit = jax.jit(jax.grad(loss, argnums=0))\n",
    "\n",
    "w = jnp.zeros([X.shape[1]])  # Initialize w to zero vector\n",
    "learning_rate = 0.5\n",
    "epochs = 100\n",
    "batch_size = 1\n",
    "\n",
    "loss_history = list()\n",
    "\n",
    "for epoch in range(epochs):\n",
    "    idx = np.random.choice(n_samples, batch_size)  # Randomly select a sample\n",
    "    g = grad_jit(w, X[idx].reshape(-1), y[idx])\n",
    "    w -= learning_rate * g\n",
    "    loss_history.append(loss_jit(w, X.T, y))\n",
    "\n",
    "print(loss_jit(w, X.T, y))"
   ]
  },
  {
   "attachments": {},
   "cell_type": "markdown",
   "metadata": {},
   "source": [
    "- 2: Repeat using SGD with a dynamic learning rate:\n",
    "$$\\eta_k = \\frac{\\eta_0}{1+\\frac{k}{100}}$$\n",
    "with $k$ iteration number and $\\eta_0 = 0.05$"
   ]
  },
  {
   "cell_type": "code",
   "execution_count": 107,
   "metadata": {},
   "outputs": [
    {
     "name": "stdout",
     "output_type": "stream",
     "text": [
      "0.64836603\n"
     ]
    }
   ],
   "source": [
    "np.random.seed(0)\n",
    "\n",
    "w = jnp.zeros(X.shape[1])  # Initialize w to zero vector\n",
    "eta0 = 0.05\n",
    "epochs = 100\n",
    "batch_size = 2\n",
    "\n",
    "loss_history_dlr = list()\n",
    "\n",
    "loss = lambda w, x, y: jnp.mean(jnp.log(1 + jnp.exp(-jnp.dot(w, x.T) * y)))\n",
    "\n",
    "loss_jit = jax.jit(loss)\n",
    "grad_jit = jax.jit(jax.grad(loss, argnums=0))\n",
    "\n",
    "for epoch in range(epochs):\n",
    "    learning_rate = eta0 / (1 + epoch / 100)\n",
    "    idx = np.random.choice(n_samples, batch_size)  # Randomly select a sample\n",
    "    g = grad_jit(w, X[idx], y[idx])\n",
    "    w -= learning_rate * g\n",
    "    loss_history_dlr.append(loss_jit(w, X, y))\n",
    "\n",
    "print(loss_jit(w, X, y))"
   ]
  },
  {
   "cell_type": "code",
   "execution_count": 103,
   "metadata": {},
   "outputs": [
    {
     "name": "stdout",
     "output_type": "stream",
     "text": [
      "0.9010061\n"
     ]
    }
   ],
   "source": [
    "np.random.seed(0)\n",
    "\n",
    "w = jnp.zeros(X.shape[1])  # Initialize w to zero vector\n",
    "eta0 = 0.05\n",
    "epochs = 100\n",
    "batch_size = 1\n",
    "\n",
    "loss_history_dlr = list()\n",
    "\n",
    "loss = lambda w, x, y: jnp.mean(jnp.log(1 + jnp.exp(-jnp.dot(w, x) * y[0])))\n",
    "\n",
    "loss_jit = jax.jit(loss)\n",
    "grad_jit = jax.jit(jax.grad(loss, argnums=0))\n",
    "\n",
    "for epoch in range(epochs):\n",
    "    learning_rate = eta0 / (1 + epoch / 100)\n",
    "    idx = np.random.choice(n_samples, batch_size)  # Randomly select a sample\n",
    "    g = grad_jit(w, X[idx].reshape(-1), y[idx])\n",
    "    w -= learning_rate * g\n",
    "    loss_history_dlr.append(loss_jit(w, X.T, y))\n",
    "\n",
    "print(loss_jit(w, X.T, y))"
   ]
  },
  {
   "cell_type": "code",
   "execution_count": 108,
   "metadata": {},
   "outputs": [
    {
     "data": {
      "text/plain": [
       "<matplotlib.legend.Legend at 0x1bad3be7490>"
      ]
     },
     "execution_count": 108,
     "metadata": {},
     "output_type": "execute_result"
    },
    {
     "data": {
      "image/png": "[encoded data removed]",
      "text/plain": [
       "<Figure size 640x480 with 1 Axes>"
      ]
     },
     "metadata": {},
     "output_type": "display_data"
    }
   ],
   "source": [
    "plt.loglog(loss_history_dlr, label=\"DLR\")\n",
    "plt.loglog(loss_history, label=\"SGD\")\n",
    "plt.legend()"
   ]
  },
  {
   "attachments": {},
   "cell_type": "markdown",
   "metadata": {},
   "source": [
    "As we can see the method with a dynamic learning rate is more stable."
   ]
  }
 ],
 "metadata": {
  "kernelspec": {
   "display_name": "naml",
   "language": "python",
   "name": "python3"
  },
  "language_info": {
   "codemirror_mode": {
    "name": "ipython",
    "version": 3
   },
   "file_extension": ".py",
   "mimetype": "text/x-python",
   "name": "python",
   "nbconvert_exporter": "python",
   "pygments_lexer": "ipython3",
   "version": "3.10.13"
  },
  "orig_nbformat": 4
 },
 "nbformat": 4,
 "nbformat_minor": 2
}
